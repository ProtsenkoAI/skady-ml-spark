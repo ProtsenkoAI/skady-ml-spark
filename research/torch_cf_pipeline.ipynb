{
 "cells": [
  {
   "cell_type": "markdown",
   "metadata": {
    "id": "3G-8U-A9O4q4"
   },
   "source": [
    "# Imports, paths, etc"
   ]
  },
  {
   "cell_type": "code",
   "execution_count": 3,
   "metadata": {
    "executionInfo": {
     "elapsed": 1886,
     "status": "ok",
     "timestamp": 1611643176473,
     "user": {
      "displayName": "Арсений Проценко",
      "photoUrl": "https://lh3.googleusercontent.com/a-/AOh14GiI1n1EAdqL-mRBQLRhNBAZ4LXpBQazo5hT3fyKGw=s64",
      "userId": "00871892578702099299"
     },
     "user_tz": -180
    },
    "id": "55oL5-sbNVVD"
   },
   "outputs": [],
   "source": [
    "import matplotlib.pyplot as plt\n",
    "import torch\n",
    "from torch.utils import data as torch_data\n",
    "from torch import nn\n",
    "import pandas as pd\n",
    "\n",
    "import importlib\n",
    "from sys import path as modules_search_path\n",
    "# from sklearn import metrics"
   ]
  },
  {
   "cell_type": "code",
   "execution_count": 12,
   "metadata": {
    "colab": {
     "base_uri": "https://localhost:8080/"
    },
    "executionInfo": {
     "elapsed": 2238,
     "status": "ok",
     "timestamp": 1611643176873,
     "user": {
      "displayName": "Арсений Проценко",
      "photoUrl": "https://lh3.googleusercontent.com/a-/AOh14GiI1n1EAdqL-mRBQLRhNBAZ4LXpBQazo5hT3fyKGw=s64",
      "userId": "00871892578702099299"
     },
     "user_tz": -180
    },
    "id": "MgbklRqQb82f",
    "outputId": "9c3f9ec4-e281-47b4-ef8d-e36f9eeb95fd"
   },
   "outputs": [
    {
     "name": "stdout",
     "output_type": "stream",
     "text": [
      "Drive already mounted at /content/drive; to attempt to forcibly remount, call drive.mount(\"/content/drive\", force_remount=True).\n"
     ]
    }
   ],
   "source": [
    "### GOOGLE DRIVE VERSION\n",
    "# drive_path = \"/content/drive\"\n",
    "# drive.mount(drive_path)\n",
    "\n",
    "# base_path = drive_path + \"/MyDrive/recsys2/\"\n",
    "# data_path = base_path + \"data/\"\n",
    "# src_path = base_path + \"ml_sources/\"\n",
    "# modules_search_path.append(src_path)"
   ]
  },
  {
   "cell_type": "code",
   "execution_count": 5,
   "metadata": {},
   "outputs": [],
   "source": [
    "base_path = \"../\"\n",
    "data_path = base_path + \"data/\"\n",
    "src_path = base_path + \"ml_sources/\"\n",
    "modules_search_path.append(src_path)"
   ]
  },
  {
   "cell_type": "code",
   "execution_count": 6,
   "metadata": {
    "executionInfo": {
     "elapsed": 2237,
     "status": "ok",
     "timestamp": 1611643176874,
     "user": {
      "displayName": "Арсений Проценко",
      "photoUrl": "https://lh3.googleusercontent.com/a-/AOh14GiI1n1EAdqL-mRBQLRhNBAZ4LXpBQazo5hT3fyKGw=s64",
      "userId": "00871892578702099299"
     },
     "user_tz": -180
    },
    "id": "2ZLHpzgH5LlB"
   },
   "outputs": [],
   "source": [
    "from recsys_pipeline.data import datasets, users_datasets_retriever\n",
    "from recsys_pipeline.data_transform import data_preprocessor, id_idx_converter\n",
    "from recsys_pipeline.managers import train_eval_managers, trainers, validators\n",
    "from recsys_pipeline.models import mf_with_bias\n",
    "\n",
    "my_modules = [datasets, users_datasets_retriever, data_preprocessor, \n",
    "              id_idx_converter, train_eval_managers, trainers, validators, \n",
    "              mf_with_bias]\n",
    "\n",
    "import importlib\n",
    "for module in my_modules:\n",
    "    importlib.reload(module)"
   ]
  },
  {
   "cell_type": "code",
   "execution_count": 7,
   "metadata": {
    "executionInfo": {
     "elapsed": 2236,
     "status": "ok",
     "timestamp": 1611643176876,
     "user": {
      "displayName": "Арсений Проценко",
      "photoUrl": "https://lh3.googleusercontent.com/a-/AOh14GiI1n1EAdqL-mRBQLRhNBAZ4LXpBQazo5hT3fyKGw=s64",
      "userId": "00871892578702099299"
     },
     "user_tz": -180
    },
    "id": "QVzj3t4-MUKD"
   },
   "outputs": [
    {
     "name": "stderr",
     "output_type": "stream",
     "text": [
      "/home/gldsn/.local/share/virtualenvs/skady-ml-jKBJuk0s/lib/python3.8/site-packages/torch/cuda/__init__.py:52: UserWarning: CUDA initialization: Found no NVIDIA driver on your system. Please check that you have an NVIDIA GPU and installed a driver from http://www.nvidia.com/Download/index.aspx (Triggered internally at  /pytorch/c10/cuda/CUDAFunctions.cpp:100.)\n",
      "  return torch._C._cuda_getDeviceCount() > 0\n"
     ]
    }
   ],
   "source": [
    "BATCH_SIZE = 256\n",
    "DEVICE = torch.device('cuda' if torch.cuda.is_available() else 'cpu')"
   ]
  },
  {
   "cell_type": "markdown",
   "metadata": {
    "id": "B9uvZKir6xs5"
   },
   "source": [
    "# Run unit tests"
   ]
  },
  {
   "cell_type": "code",
   "execution_count": 66,
   "metadata": {
    "colab": {
     "base_uri": "https://localhost:8080/"
    },
    "executionInfo": {
     "elapsed": 3586,
     "status": "ok",
     "timestamp": 1611662404665,
     "user": {
      "displayName": "Арсений Проценко",
      "photoUrl": "https://lh3.googleusercontent.com/a-/AOh14GiI1n1EAdqL-mRBQLRhNBAZ4LXpBQazo5hT3fyKGw=s64",
      "userId": "00871892578702099299"
     },
     "user_tz": -180
    },
    "id": "QZyCZtiV_ldp",
    "outputId": "4debfeb8-00a9-4219-9d17-650b8cf066ad"
   },
   "outputs": [
    {
     "name": "stdout",
     "output_type": "stream",
     "text": [
      "prod\n",
      "recsys_pipeline\n",
      "tests\n",
      "one to many:  tensor([343]) tensor([123, 123, 123, 123, 123, 123, 123, 123])\n",
      "torch.Size([1]) torch.Size([8])\n"
     ]
    },
    {
     "name": "stderr",
     "output_type": "stream",
     "text": [
      "test_dataset_creation (tests.test_data.test_interact_dataset.TestInteractsDatasetCreation) ... ok\n",
      "test_empty_dataset_creation (tests.test_data.test_interact_dataset.TestInteractsDatasetCreation) ... ok\n",
      "test_dataset_iteration (tests.test_data.test_interact_dataset.TestInteractsDatasetIteration)\n",
      "Test that we can iterate over dataset, and that every sample ... ok\n",
      "test_empty_dataset_iteration (tests.test_data.test_interact_dataset.TestInteractsDatasetIteration) ... ok\n",
      "test_init_and_call (tests.test_data.test_loader_build.TestStandardLoaderBuilder) ... ok\n",
      "test_create_retriever (tests.test_data.test_users_datasets_retriever.TestUsersDatasetsRetriever) ... ok\n",
      "test_retrieved_sample_shape_and_dtypes (tests.test_data.test_users_datasets_retriever.TestUsersDatasetsRetriever) ... ok\n",
      "test_retrieved_samples_are_different (tests.test_data.test_users_datasets_retriever.TestUsersDatasetsRetriever) ... ok\n",
      "test_transform_batch_shapes (tests.test_data_transform.test_data_preprocessor.TestDataPreprocessor) ... ok\n",
      "test_transform_batch_types (tests.test_data_transform.test_data_preprocessor.TestDataPreprocessor) ... ok\n",
      "test_transform_item (tests.test_data_transform.test_data_preprocessor.TestDataPreprocessor) ... ok\n",
      "test_transform_items (tests.test_data_transform.test_data_preprocessor.TestDataPreprocessor) ... ok\n",
      "test_transform_user (tests.test_data_transform.test_data_preprocessor.TestDataPreprocessor) ... ok\n",
      "test_transform_users (tests.test_data_transform.test_data_preprocessor.TestDataPreprocessor) ... ok\n",
      "test_transform_x (tests.test_data_transform.test_data_preprocessor.TestDataPreprocessor) ... ok\n",
      "test_convert_id_to_idx (tests.test_data_transform.test_id_idx_converter.TestIdIdxConverter) ... ok\n",
      "test_convert_ids_to_idxs (tests.test_data_transform.test_id_idx_converter.TestIdIdxConverter) ... ok\n",
      "test_convert_idx_to_id (tests.test_data_transform.test_id_idx_converter.TestIdIdxConverter) ... ok\n",
      "test_count_unknown (tests.test_data_transform.test_id_idx_converter.TestIdIdxConverter) ... ok\n",
      "test_get_all_ids (tests.test_data_transform.test_id_idx_converter.TestIdIdxConverter) ... ok\n",
      "test_id_inverse_transform (tests.test_data_transform.test_id_idx_converter.TestIdIdxConverter) ... ok\n",
      "test_idx_inverse_transform (tests.test_data_transform.test_id_idx_converter.TestIdIdxConverter) ... ok\n",
      "test_idx_values_after_addiing (tests.test_data_transform.test_id_idx_converter.TestIdIdxConverter) ... ok\n",
      "test_idx_values_after_initing (tests.test_data_transform.test_id_idx_converter.TestIdIdxConverter) ... ok\n",
      "test_initializing_with_ids (tests.test_data_transform.test_id_idx_converter.TestIdIdxConverter) ... ok\n",
      "test_exceed_stopping_patience (tests.test_managers.test_train_eval_managers.TestTrainEvalManager) ... ERROR\n",
      "test_raised_if_eval_strategy_steps_but_no_nsteps_specified (tests.test_managers.test_train_eval_managers.TestTrainEvalManager) ... ERROR\n",
      "test_train_epochs_break_because_of_epochs (tests.test_managers.test_train_eval_managers.TestTrainEvalManager) ... ERROR\n",
      "test_train_epochs_break_because_of_steps (tests.test_managers.test_train_eval_managers.TestTrainEvalManager) ... ERROR\n",
      "test_train_save_model (tests.test_managers.test_train_eval_managers.TestTrainEvalManager) ... ERROR\n",
      "test_train_steps_break_because_of_epochs (tests.test_managers.test_train_eval_managers.TestTrainEvalManager) ... ERROR\n",
      "test_train_steps_break_because_of_steps (tests.test_managers.test_train_eval_managers.TestTrainEvalManager) ... ERROR\n",
      "test_add_item (tests.test_managers.test_trainer.TestTrainer) ... ERROR\n",
      "test_add_multiple_items (tests.test_managers.test_trainer.TestTrainer) ... ERROR\n",
      "test_add_multiple_users (tests.test_managers.test_trainer.TestTrainer) ... ERROR\n",
      "test_add_user (tests.test_managers.test_trainer.TestTrainer) ... ERROR\n",
      "test_every_layer_is_updated (tests.test_managers.test_trainer.TestTrainer) ... ERROR\n",
      "test_get_model (tests.test_managers.test_trainer.TestTrainer) ... ERROR\n",
      "test_get_recommends_for_users (tests.test_managers.test_trainer.TestTrainer) ... ERROR\n",
      "test_train_2_epochs (tests.test_managers.test_trainer.TestTrainer) ... ERROR\n",
      "test_train_5_steps (tests.test_managers.test_trainer.TestTrainer) ... ERROR\n",
      "test_evaluate (tests.test_managers.test_validator.TestValidator) ... ERROR\n",
      "test_one_user_evaluation (tests.test_managers.test_validator.TestValidator) ... ERROR\n",
      "test_add_item (tests.test_models.test_mf_with_bias.TestMFWithBias) ... ok\n",
      "test_add_multiple_items (tests.test_models.test_mf_with_bias.TestMFWithBias) ... ok\n",
      "test_add_multiple_users (tests.test_models.test_mf_with_bias.TestMFWithBias) ... ok\n",
      "test_add_user (tests.test_models.test_mf_with_bias.TestMFWithBias) ... ok\n",
      "test_creating_model (tests.test_models.test_mf_with_bias.TestMFWithBias) ... ok\n",
      "test_predict_batch (tests.test_models.test_mf_with_bias.TestMFWithBias) ... ok\n",
      "test_predict_one_user_many_items (tests.test_models.test_mf_with_bias.TestMFWithBias) ... ok\n",
      "test_predict_single (tests.test_models.test_mf_with_bias.TestMFWithBias) ... ok\n",
      "tests.test_prod.test_prod_managing (unittest.loader._FailedTest) ... ERROR\n",
      "tests.test_saving.test_meta_model_saving (unittest.loader._FailedTest) ... ERROR\n",
      "tests.test_saving.test_model_state_dict_saving (unittest.loader._FailedTest) ... ERROR\n",
      "\n",
      "======================================================================\n",
      "ERROR: test_exceed_stopping_patience (tests.test_managers.test_train_eval_managers.TestTrainEvalManager)\n",
      "----------------------------------------------------------------------\n",
      "Traceback (most recent call last):\n",
      "  File \"/content/drive/MyDrive/recsys2/ml_sources/tests/test_managers/test_train_eval_managers.py\", line 79, in test_exceed_stopping_patience\n",
      "    trainer = objects_creation.get_trainer(model)\n",
      "  File \"/content/drive/MyDrive/recsys2/ml_sources/tests/helpers/objects_creation.py\", line 48, in get_trainer\n",
      "    dataloader = get_loader(interacts_nrows, batch_size)\n",
      "  File \"/content/drive/MyDrive/recsys2/ml_sources/tests/helpers/objects_creation.py\", line 30, in get_loader\n",
      "    dataset = get_interact_dataset(nrows)\n",
      "  File \"/content/drive/MyDrive/recsys2/ml_sources/tests/helpers/objects_creation.py\", line 24, in get_interact_dataset\n",
      "    interacts = get_interacts(nrows)\n",
      "  File \"/content/drive/MyDrive/recsys2/ml_sources/tests/helpers/objects_creation.py\", line 15, in get_interacts\n",
      "    return pd.read_csv(config.interacts_path, nrows=nrows)\n",
      "NameError: name 'config' is not defined\n",
      "\n",
      "======================================================================\n",
      "ERROR: test_raised_if_eval_strategy_steps_but_no_nsteps_specified (tests.test_managers.test_train_eval_managers.TestTrainEvalManager)\n",
      "----------------------------------------------------------------------\n",
      "Traceback (most recent call last):\n",
      "  File \"/content/drive/MyDrive/recsys2/ml_sources/tests/test_managers/test_train_eval_managers.py\", line 113, in test_raised_if_eval_strategy_steps_but_no_nsteps_specified\n",
      "    trainer = objects_creation.get_trainer(model)\n",
      "  File \"/content/drive/MyDrive/recsys2/ml_sources/tests/helpers/objects_creation.py\", line 48, in get_trainer\n",
      "    dataloader = get_loader(interacts_nrows, batch_size)\n",
      "  File \"/content/drive/MyDrive/recsys2/ml_sources/tests/helpers/objects_creation.py\", line 30, in get_loader\n",
      "    dataset = get_interact_dataset(nrows)\n",
      "  File \"/content/drive/MyDrive/recsys2/ml_sources/tests/helpers/objects_creation.py\", line 24, in get_interact_dataset\n",
      "    interacts = get_interacts(nrows)\n",
      "  File \"/content/drive/MyDrive/recsys2/ml_sources/tests/helpers/objects_creation.py\", line 15, in get_interacts\n",
      "    return pd.read_csv(config.interacts_path, nrows=nrows)\n",
      "NameError: name 'config' is not defined\n",
      "\n",
      "======================================================================\n",
      "ERROR: test_train_epochs_break_because_of_epochs (tests.test_managers.test_train_eval_managers.TestTrainEvalManager)\n",
      "----------------------------------------------------------------------\n",
      "Traceback (most recent call last):\n",
      "  File \"/content/drive/MyDrive/recsys2/ml_sources/tests/test_managers/test_train_eval_managers.py\", line 64, in test_train_epochs_break_because_of_epochs\n",
      "    trainer = objects_creation.get_trainer(model)\n",
      "  File \"/content/drive/MyDrive/recsys2/ml_sources/tests/helpers/objects_creation.py\", line 48, in get_trainer\n",
      "    dataloader = get_loader(interacts_nrows, batch_size)\n",
      "  File \"/content/drive/MyDrive/recsys2/ml_sources/tests/helpers/objects_creation.py\", line 30, in get_loader\n",
      "    dataset = get_interact_dataset(nrows)\n",
      "  File \"/content/drive/MyDrive/recsys2/ml_sources/tests/helpers/objects_creation.py\", line 24, in get_interact_dataset\n",
      "    interacts = get_interacts(nrows)\n",
      "  File \"/content/drive/MyDrive/recsys2/ml_sources/tests/helpers/objects_creation.py\", line 15, in get_interacts\n",
      "    return pd.read_csv(config.interacts_path, nrows=nrows)\n",
      "NameError: name 'config' is not defined\n",
      "\n",
      "======================================================================\n",
      "ERROR: test_train_epochs_break_because_of_steps (tests.test_managers.test_train_eval_managers.TestTrainEvalManager)\n",
      "----------------------------------------------------------------------\n",
      "Traceback (most recent call last):\n",
      "  File \"/content/drive/MyDrive/recsys2/ml_sources/tests/test_managers/test_train_eval_managers.py\", line 17, in test_train_epochs_break_because_of_steps\n",
      "    trainer = objects_creation.get_trainer(model)\n",
      "  File \"/content/drive/MyDrive/recsys2/ml_sources/tests/helpers/objects_creation.py\", line 48, in get_trainer\n",
      "    dataloader = get_loader(interacts_nrows, batch_size)\n",
      "  File \"/content/drive/MyDrive/recsys2/ml_sources/tests/helpers/objects_creation.py\", line 30, in get_loader\n",
      "    dataset = get_interact_dataset(nrows)\n",
      "  File \"/content/drive/MyDrive/recsys2/ml_sources/tests/helpers/objects_creation.py\", line 24, in get_interact_dataset\n",
      "    interacts = get_interacts(nrows)\n",
      "  File \"/content/drive/MyDrive/recsys2/ml_sources/tests/helpers/objects_creation.py\", line 15, in get_interacts\n",
      "    return pd.read_csv(config.interacts_path, nrows=nrows)\n",
      "NameError: name 'config' is not defined\n",
      "\n",
      "======================================================================\n",
      "ERROR: test_train_save_model (tests.test_managers.test_train_eval_managers.TestTrainEvalManager)\n",
      "----------------------------------------------------------------------\n",
      "Traceback (most recent call last):\n",
      "  File \"/content/drive/MyDrive/recsys2/ml_sources/tests/test_managers/test_train_eval_managers.py\", line 92, in test_train_save_model\n",
      "    trainer = objects_creation.get_trainer(model)\n",
      "  File \"/content/drive/MyDrive/recsys2/ml_sources/tests/helpers/objects_creation.py\", line 48, in get_trainer\n",
      "    dataloader = get_loader(interacts_nrows, batch_size)\n",
      "  File \"/content/drive/MyDrive/recsys2/ml_sources/tests/helpers/objects_creation.py\", line 30, in get_loader\n",
      "    dataset = get_interact_dataset(nrows)\n",
      "  File \"/content/drive/MyDrive/recsys2/ml_sources/tests/helpers/objects_creation.py\", line 24, in get_interact_dataset\n",
      "    interacts = get_interacts(nrows)\n",
      "  File \"/content/drive/MyDrive/recsys2/ml_sources/tests/helpers/objects_creation.py\", line 15, in get_interacts\n",
      "    return pd.read_csv(config.interacts_path, nrows=nrows)\n",
      "NameError: name 'config' is not defined\n",
      "\n",
      "======================================================================\n",
      "ERROR: test_train_steps_break_because_of_epochs (tests.test_managers.test_train_eval_managers.TestTrainEvalManager)\n",
      "----------------------------------------------------------------------\n",
      "Traceback (most recent call last):\n",
      "  File \"/content/drive/MyDrive/recsys2/ml_sources/tests/test_managers/test_train_eval_managers.py\", line 30, in test_train_steps_break_because_of_epochs\n",
      "    trainer = objects_creation.get_trainer(model)\n",
      "  File \"/content/drive/MyDrive/recsys2/ml_sources/tests/helpers/objects_creation.py\", line 48, in get_trainer\n",
      "    dataloader = get_loader(interacts_nrows, batch_size)\n",
      "  File \"/content/drive/MyDrive/recsys2/ml_sources/tests/helpers/objects_creation.py\", line 30, in get_loader\n",
      "    dataset = get_interact_dataset(nrows)\n",
      "  File \"/content/drive/MyDrive/recsys2/ml_sources/tests/helpers/objects_creation.py\", line 24, in get_interact_dataset\n",
      "    interacts = get_interacts(nrows)\n",
      "  File \"/content/drive/MyDrive/recsys2/ml_sources/tests/helpers/objects_creation.py\", line 15, in get_interacts\n",
      "    return pd.read_csv(config.interacts_path, nrows=nrows)\n",
      "NameError: name 'config' is not defined\n",
      "\n",
      "======================================================================\n",
      "ERROR: test_train_steps_break_because_of_steps (tests.test_managers.test_train_eval_managers.TestTrainEvalManager)\n",
      "----------------------------------------------------------------------\n",
      "Traceback (most recent call last):\n",
      "  File \"/content/drive/MyDrive/recsys2/ml_sources/tests/test_managers/test_train_eval_managers.py\", line 46, in test_train_steps_break_because_of_steps\n",
      "    trainer = objects_creation.get_trainer(model)\n",
      "  File \"/content/drive/MyDrive/recsys2/ml_sources/tests/helpers/objects_creation.py\", line 48, in get_trainer\n",
      "    dataloader = get_loader(interacts_nrows, batch_size)\n",
      "  File \"/content/drive/MyDrive/recsys2/ml_sources/tests/helpers/objects_creation.py\", line 30, in get_loader\n",
      "    dataset = get_interact_dataset(nrows)\n",
      "  File \"/content/drive/MyDrive/recsys2/ml_sources/tests/helpers/objects_creation.py\", line 24, in get_interact_dataset\n",
      "    interacts = get_interacts(nrows)\n",
      "  File \"/content/drive/MyDrive/recsys2/ml_sources/tests/helpers/objects_creation.py\", line 15, in get_interacts\n",
      "    return pd.read_csv(config.interacts_path, nrows=nrows)\n",
      "NameError: name 'config' is not defined\n",
      "\n",
      "======================================================================\n",
      "ERROR: test_add_item (tests.test_managers.test_trainer.TestTrainer)\n",
      "----------------------------------------------------------------------\n",
      "Traceback (most recent call last):\n",
      "  File \"/content/drive/MyDrive/recsys2/ml_sources/tests/test_managers/test_trainer.py\", line 74, in test_add_item\n",
      "    trainer = self._create_trainer(interacts)\n",
      "  File \"/content/drive/MyDrive/recsys2/ml_sources/tests/test_managers/test_trainer.py\", line 120, in _create_trainer\n",
      "    self.preprocessor = helpers.get_preprocessor()\n",
      "  File \"/content/drive/MyDrive/recsys2/ml_sources/tests/test_managers/helpers.py\", line 33, in get_preprocessor\n",
      "    return data_preprocessor.DataPreprocessor(DEVICE)\n",
      "NameError: name 'DEVICE' is not defined\n",
      "\n",
      "======================================================================\n",
      "ERROR: test_add_multiple_items (tests.test_managers.test_trainer.TestTrainer)\n",
      "----------------------------------------------------------------------\n",
      "Traceback (most recent call last):\n",
      "  File \"/content/drive/MyDrive/recsys2/ml_sources/tests/test_managers/test_trainer.py\", line 86, in test_add_multiple_items\n",
      "    trainer = self._create_trainer(interacts)\n",
      "  File \"/content/drive/MyDrive/recsys2/ml_sources/tests/test_managers/test_trainer.py\", line 120, in _create_trainer\n",
      "    self.preprocessor = helpers.get_preprocessor()\n",
      "  File \"/content/drive/MyDrive/recsys2/ml_sources/tests/test_managers/helpers.py\", line 33, in get_preprocessor\n",
      "    return data_preprocessor.DataPreprocessor(DEVICE)\n",
      "NameError: name 'DEVICE' is not defined\n",
      "\n",
      "======================================================================\n",
      "ERROR: test_add_multiple_users (tests.test_managers.test_trainer.TestTrainer)\n",
      "----------------------------------------------------------------------\n",
      "Traceback (most recent call last):\n",
      "  File \"/content/drive/MyDrive/recsys2/ml_sources/tests/test_managers/test_trainer.py\", line 66, in test_add_multiple_users\n",
      "    trainer = self._create_trainer(interacts)\n",
      "  File \"/content/drive/MyDrive/recsys2/ml_sources/tests/test_managers/test_trainer.py\", line 120, in _create_trainer\n",
      "    self.preprocessor = helpers.get_preprocessor()\n",
      "  File \"/content/drive/MyDrive/recsys2/ml_sources/tests/test_managers/helpers.py\", line 33, in get_preprocessor\n",
      "    return data_preprocessor.DataPreprocessor(DEVICE)\n",
      "NameError: name 'DEVICE' is not defined\n",
      "\n",
      "======================================================================\n",
      "ERROR: test_add_user (tests.test_managers.test_trainer.TestTrainer)\n",
      "----------------------------------------------------------------------\n",
      "Traceback (most recent call last):\n",
      "  File \"/content/drive/MyDrive/recsys2/ml_sources/tests/test_managers/test_trainer.py\", line 54, in test_add_user\n",
      "    trainer = self._create_trainer(interacts)\n",
      "  File \"/content/drive/MyDrive/recsys2/ml_sources/tests/test_managers/test_trainer.py\", line 120, in _create_trainer\n",
      "    self.preprocessor = helpers.get_preprocessor()\n",
      "  File \"/content/drive/MyDrive/recsys2/ml_sources/tests/test_managers/helpers.py\", line 33, in get_preprocessor\n",
      "    return data_preprocessor.DataPreprocessor(DEVICE)\n",
      "NameError: name 'DEVICE' is not defined\n",
      "\n",
      "======================================================================\n",
      "ERROR: test_every_layer_is_updated (tests.test_managers.test_trainer.TestTrainer)\n",
      "----------------------------------------------------------------------\n",
      "Traceback (most recent call last):\n",
      "  File \"/content/drive/MyDrive/recsys2/ml_sources/tests/test_managers/test_trainer.py\", line 41, in test_every_layer_is_updated\n",
      "    trainer = self._create_trainer(interacts)\n",
      "  File \"/content/drive/MyDrive/recsys2/ml_sources/tests/test_managers/test_trainer.py\", line 120, in _create_trainer\n",
      "    self.preprocessor = helpers.get_preprocessor()\n",
      "  File \"/content/drive/MyDrive/recsys2/ml_sources/tests/test_managers/helpers.py\", line 33, in get_preprocessor\n",
      "    return data_preprocessor.DataPreprocessor(DEVICE)\n",
      "NameError: name 'DEVICE' is not defined\n",
      "\n",
      "======================================================================\n",
      "ERROR: test_get_model (tests.test_managers.test_trainer.TestTrainer)\n",
      "----------------------------------------------------------------------\n",
      "Traceback (most recent call last):\n",
      "  File \"/content/drive/MyDrive/recsys2/ml_sources/tests/test_managers/test_trainer.py\", line 105, in test_get_model\n",
      "    trainer = self._create_trainer(interacts)\n",
      "  File \"/content/drive/MyDrive/recsys2/ml_sources/tests/test_managers/test_trainer.py\", line 120, in _create_trainer\n",
      "    self.preprocessor = helpers.get_preprocessor()\n",
      "  File \"/content/drive/MyDrive/recsys2/ml_sources/tests/test_managers/helpers.py\", line 33, in get_preprocessor\n",
      "    return data_preprocessor.DataPreprocessor(DEVICE)\n",
      "NameError: name 'DEVICE' is not defined\n",
      "\n",
      "======================================================================\n",
      "ERROR: test_get_recommends_for_users (tests.test_managers.test_trainer.TestTrainer)\n",
      "----------------------------------------------------------------------\n",
      "Traceback (most recent call last):\n",
      "  File \"/content/drive/MyDrive/recsys2/ml_sources/tests/test_managers/test_trainer.py\", line 92, in test_get_recommends_for_users\n",
      "    trainer = self._create_trainer(interacts)\n",
      "  File \"/content/drive/MyDrive/recsys2/ml_sources/tests/test_managers/test_trainer.py\", line 120, in _create_trainer\n",
      "    self.preprocessor = helpers.get_preprocessor()\n",
      "  File \"/content/drive/MyDrive/recsys2/ml_sources/tests/test_managers/helpers.py\", line 33, in get_preprocessor\n",
      "    return data_preprocessor.DataPreprocessor(DEVICE)\n",
      "NameError: name 'DEVICE' is not defined\n",
      "\n",
      "======================================================================\n",
      "ERROR: test_train_2_epochs (tests.test_managers.test_trainer.TestTrainer)\n",
      "----------------------------------------------------------------------\n",
      "Traceback (most recent call last):\n",
      "  File \"/content/drive/MyDrive/recsys2/ml_sources/tests/test_managers/test_trainer.py\", line 18, in test_train_2_epochs\n",
      "    trainer = self._create_trainer(interacts)\n",
      "  File \"/content/drive/MyDrive/recsys2/ml_sources/tests/test_managers/test_trainer.py\", line 120, in _create_trainer\n",
      "    self.preprocessor = helpers.get_preprocessor()\n",
      "  File \"/content/drive/MyDrive/recsys2/ml_sources/tests/test_managers/helpers.py\", line 33, in get_preprocessor\n",
      "    return data_preprocessor.DataPreprocessor(DEVICE)\n",
      "NameError: name 'DEVICE' is not defined\n",
      "\n",
      "======================================================================\n",
      "ERROR: test_train_5_steps (tests.test_managers.test_trainer.TestTrainer)\n",
      "----------------------------------------------------------------------\n",
      "Traceback (most recent call last):\n",
      "  File \"/content/drive/MyDrive/recsys2/ml_sources/tests/test_managers/test_trainer.py\", line 30, in test_train_5_steps\n",
      "    trainer = self._create_trainer(interacts)\n",
      "  File \"/content/drive/MyDrive/recsys2/ml_sources/tests/test_managers/test_trainer.py\", line 120, in _create_trainer\n",
      "    self.preprocessor = helpers.get_preprocessor()\n",
      "  File \"/content/drive/MyDrive/recsys2/ml_sources/tests/test_managers/helpers.py\", line 33, in get_preprocessor\n",
      "    return data_preprocessor.DataPreprocessor(DEVICE)\n",
      "NameError: name 'DEVICE' is not defined\n",
      "\n",
      "======================================================================\n",
      "ERROR: test_evaluate (tests.test_managers.test_validator.TestValidator)\n",
      "----------------------------------------------------------------------\n",
      "Traceback (most recent call last):\n",
      "  File \"/content/drive/MyDrive/recsys2/ml_sources/tests/test_managers/test_validator.py\", line 20, in setUp\n",
      "    self.preprocessor = helpers.get_preprocessor()\n",
      "  File \"/content/drive/MyDrive/recsys2/ml_sources/tests/test_managers/helpers.py\", line 33, in get_preprocessor\n",
      "    return data_preprocessor.DataPreprocessor(DEVICE)\n",
      "NameError: name 'DEVICE' is not defined\n",
      "\n",
      "======================================================================\n",
      "ERROR: test_one_user_evaluation (tests.test_managers.test_validator.TestValidator)\n",
      "----------------------------------------------------------------------\n",
      "Traceback (most recent call last):\n",
      "  File \"/content/drive/MyDrive/recsys2/ml_sources/tests/test_managers/test_validator.py\", line 20, in setUp\n",
      "    self.preprocessor = helpers.get_preprocessor()\n",
      "  File \"/content/drive/MyDrive/recsys2/ml_sources/tests/test_managers/helpers.py\", line 33, in get_preprocessor\n",
      "    return data_preprocessor.DataPreprocessor(DEVICE)\n",
      "NameError: name 'DEVICE' is not defined\n",
      "\n",
      "======================================================================\n",
      "ERROR: tests.test_prod.test_prod_managing (unittest.loader._FailedTest)\n",
      "----------------------------------------------------------------------\n",
      "ImportError: Failed to import test module: tests.test_prod.test_prod_managing\n",
      "Traceback (most recent call last):\n",
      "  File \"/usr/lib/python3.6/unittest/loader.py\", line 428, in _find_test_path\n",
      "    module = self._get_module_from_name(name)\n",
      "  File \"/usr/lib/python3.6/unittest/loader.py\", line 369, in _get_module_from_name\n",
      "    __import__(name)\n",
      "  File \"/content/drive/MyDrive/recsys2/ml_sources/tests/test_prod/test_prod_managing.py\", line 11, in <module>\n",
      "    from .. import tests_config\n",
      "ImportError: cannot import name 'tests_config'\n",
      "\n",
      "\n",
      "======================================================================\n",
      "ERROR: tests.test_saving.test_meta_model_saving (unittest.loader._FailedTest)\n",
      "----------------------------------------------------------------------\n",
      "ImportError: Failed to import test module: tests.test_saving.test_meta_model_saving\n",
      "Traceback (most recent call last):\n",
      "  File \"/usr/lib/python3.6/unittest/loader.py\", line 428, in _find_test_path\n",
      "    module = self._get_module_from_name(name)\n",
      "  File \"/usr/lib/python3.6/unittest/loader.py\", line 369, in _get_module_from_name\n",
      "    __import__(name)\n",
      "  File \"/content/drive/MyDrive/recsys2/ml_sources/tests/test_saving/test_meta_model_saving.py\", line 9, in <module>\n",
      "    from .. import tests_config\n",
      "ImportError: cannot import name 'tests_config'\n",
      "\n",
      "\n",
      "======================================================================\n",
      "ERROR: tests.test_saving.test_model_state_dict_saving (unittest.loader._FailedTest)\n",
      "----------------------------------------------------------------------\n",
      "ImportError: Failed to import test module: tests.test_saving.test_model_state_dict_saving\n",
      "Traceback (most recent call last):\n",
      "  File \"/usr/lib/python3.6/unittest/loader.py\", line 428, in _find_test_path\n",
      "    module = self._get_module_from_name(name)\n",
      "  File \"/usr/lib/python3.6/unittest/loader.py\", line 369, in _get_module_from_name\n",
      "    __import__(name)\n",
      "  File \"/content/drive/MyDrive/recsys2/ml_sources/tests/test_saving/test_model_state_dict_saving.py\", line 8, in <module>\n",
      "    from recsys_pipeline.saving import model_saving\n",
      "ImportError: cannot import name 'model_saving'\n",
      "\n",
      "\n",
      "----------------------------------------------------------------------\n",
      "Ran 54 tests in 0.290s\n",
      "\n",
      "FAILED (errors=21)\n"
     ]
    }
   ],
   "source": [
    "%%bash\n",
    "\n",
    "(cd /content/drive/MyDrive/recsys2/ml_sources\n",
    " ls\n",
    " python -m unittest discover -v -p *test_*.py\n",
    " )"
   ]
  },
  {
   "cell_type": "markdown",
   "metadata": {
    "id": "dLax89ZHMetT"
   },
   "source": [
    "# Data"
   ]
  },
  {
   "cell_type": "code",
   "execution_count": null,
   "metadata": {
    "id": "sC2MOZ4_Md58"
   },
   "outputs": [],
   "source": [
    "anime_info = pd.read_csv(data_path + \"anime.csv\")\n",
    "ratings = pd.read_csv(data_path + \"rating.csv\")"
   ]
  },
  {
   "cell_type": "code",
   "execution_count": null,
   "metadata": {
    "id": "djqktb8AweGH"
   },
   "outputs": [],
   "source": [
    "ratings = ratings[ratings[\"rating\"] != -1].reset_index(drop=True)"
   ]
  },
  {
   "cell_type": "code",
   "execution_count": null,
   "metadata": {
    "id": "_7uZzp5h5-X_"
   },
   "outputs": [],
   "source": [
    "user_id_idx_conv = id_idx_converter.IdIdxConverter(*ratings[\"user_id\"].unique())\n",
    "ratings[\"user_id\"] = user_id_idx_conv.get_idxs(*ratings[\"user_id\"])\n",
    "\n",
    "item_id_idx_conv = id_idx_converter.IdIdxConverter(*ratings[\"anime_id\"].unique())\n",
    "ratings[\"anime_id\"] = item_id_idx_conv.get_idxs(*ratings[\"anime_id\"])"
   ]
  },
  {
   "cell_type": "code",
   "execution_count": null,
   "metadata": {
    "colab": {
     "base_uri": "https://localhost:8080/",
     "height": 204
    },
    "executionInfo": {
     "elapsed": 11042,
     "status": "ok",
     "timestamp": 1611487921061,
     "user": {
      "displayName": "Арсений Проценко",
      "photoUrl": "https://lh3.googleusercontent.com/a-/AOh14GiI1n1EAdqL-mRBQLRhNBAZ4LXpBQazo5hT3fyKGw=s64",
      "userId": "00871892578702099299"
     },
     "user_tz": -180
    },
    "id": "2wu3UvBuvMwO",
    "outputId": "388c4016-13b7-48e6-8c61-49552ec134ff"
   },
   "outputs": [
    {
     "data": {
      "text/html": [
       "<div>\n",
       "<style scoped>\n",
       "    .dataframe tbody tr th:only-of-type {\n",
       "        vertical-align: middle;\n",
       "    }\n",
       "\n",
       "    .dataframe tbody tr th {\n",
       "        vertical-align: top;\n",
       "    }\n",
       "\n",
       "    .dataframe thead th {\n",
       "        text-align: right;\n",
       "    }\n",
       "</style>\n",
       "<table border=\"1\" class=\"dataframe\">\n",
       "  <thead>\n",
       "    <tr style=\"text-align: right;\">\n",
       "      <th></th>\n",
       "      <th>user_id</th>\n",
       "      <th>anime_id</th>\n",
       "      <th>rating</th>\n",
       "    </tr>\n",
       "  </thead>\n",
       "  <tbody>\n",
       "    <tr>\n",
       "      <th>0</th>\n",
       "      <td>0</td>\n",
       "      <td>0</td>\n",
       "      <td>10</td>\n",
       "    </tr>\n",
       "    <tr>\n",
       "      <th>1</th>\n",
       "      <td>0</td>\n",
       "      <td>1</td>\n",
       "      <td>10</td>\n",
       "    </tr>\n",
       "    <tr>\n",
       "      <th>2</th>\n",
       "      <td>0</td>\n",
       "      <td>2</td>\n",
       "      <td>10</td>\n",
       "    </tr>\n",
       "    <tr>\n",
       "      <th>3</th>\n",
       "      <td>0</td>\n",
       "      <td>3</td>\n",
       "      <td>10</td>\n",
       "    </tr>\n",
       "    <tr>\n",
       "      <th>4</th>\n",
       "      <td>1</td>\n",
       "      <td>4</td>\n",
       "      <td>10</td>\n",
       "    </tr>\n",
       "  </tbody>\n",
       "</table>\n",
       "</div>"
      ],
      "text/plain": [
       "   user_id  anime_id  rating\n",
       "0        0         0      10\n",
       "1        0         1      10\n",
       "2        0         2      10\n",
       "3        0         3      10\n",
       "4        1         4      10"
      ]
     },
     "execution_count": 147,
     "metadata": {
      "tags": []
     },
     "output_type": "execute_result"
    }
   ],
   "source": [
    "ratings.head()"
   ]
  },
  {
   "cell_type": "markdown",
   "metadata": {
    "id": "9iC-hcRr7glE"
   },
   "source": [
    "# interactive trash"
   ]
  },
  {
   "cell_type": "code",
   "execution_count": null,
   "metadata": {
    "colab": {
     "base_uri": "https://localhost:8080/",
     "height": 111
    },
    "executionInfo": {
     "elapsed": 758,
     "status": "ok",
     "timestamp": 1611500842486,
     "user": {
      "displayName": "Арсений Проценко",
      "photoUrl": "https://lh3.googleusercontent.com/a-/AOh14GiI1n1EAdqL-mRBQLRhNBAZ4LXpBQazo5hT3fyKGw=s64",
      "userId": "00871892578702099299"
     },
     "user_tz": -180
    },
    "id": "wlLyUezh7iej",
    "outputId": "8fe64caa-e90b-485f-937d-71b6f56904c0"
   },
   "outputs": [
    {
     "data": {
      "text/html": [
       "<div>\n",
       "<style scoped>\n",
       "    .dataframe tbody tr th:only-of-type {\n",
       "        vertical-align: middle;\n",
       "    }\n",
       "\n",
       "    .dataframe tbody tr th {\n",
       "        vertical-align: top;\n",
       "    }\n",
       "\n",
       "    .dataframe thead th {\n",
       "        text-align: right;\n",
       "    }\n",
       "</style>\n",
       "<table border=\"1\" class=\"dataframe\">\n",
       "  <thead>\n",
       "    <tr style=\"text-align: right;\">\n",
       "      <th></th>\n",
       "      <th>a</th>\n",
       "      <th>b</th>\n",
       "    </tr>\n",
       "  </thead>\n",
       "  <tbody>\n",
       "    <tr>\n",
       "      <th>0</th>\n",
       "      <td>1</td>\n",
       "      <td>11</td>\n",
       "    </tr>\n",
       "    <tr>\n",
       "      <th>1</th>\n",
       "      <td>2</td>\n",
       "      <td>22</td>\n",
       "    </tr>\n",
       "  </tbody>\n",
       "</table>\n",
       "</div>"
      ],
      "text/plain": [
       "   a   b\n",
       "0  1  11\n",
       "1  2  22"
      ]
     },
     "execution_count": 193,
     "metadata": {
      "tags": []
     },
     "output_type": "execute_result"
    }
   ],
   "source": [
    "a = pd.DataFrame({\"a\": 1, \"b\": 11}, index=[0])\n",
    "b = pd.DataFrame({\"a\": 2, \"b\": 22}, index=[0])\n",
    "pd.concat([a, b], ignore_index=True)"
   ]
  }
 ],
 "metadata": {
  "colab": {
   "authorship_tag": "ABX9TyP9Gp0PVqfpK+LQ9aXKsycD",
   "collapsed_sections": [],
   "name": "torch_cf_pipeline.ipynb",
   "provenance": [],
   "toc_visible": true
  },
  "kernelspec": {
   "display_name": "Python 3",
   "language": "python",
   "name": "python3"
  },
  "language_info": {
   "codemirror_mode": {
    "name": "ipython",
    "version": 3
   },
   "file_extension": ".py",
   "mimetype": "text/x-python",
   "name": "python",
   "nbconvert_exporter": "python",
   "pygments_lexer": "ipython3",
   "version": "3.8.5"
  }
 },
 "nbformat": 4,
 "nbformat_minor": 4
}
